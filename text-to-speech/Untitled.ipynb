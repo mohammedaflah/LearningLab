{
 "cells": [
  {
   "cell_type": "code",
   "execution_count": 1,
   "id": "3a3b3d51",
   "metadata": {},
   "outputs": [
    {
     "name": "stdout",
     "output_type": "stream",
     "text": [
      "Generated 318 words in 58.9s (~324 wpm)\n"
     ]
    }
   ],
   "source": [
    "from gtts import gTTS\n",
    "import time\n",
    "\n",
    "script = \"\"\"\n",
    "Let's talk about the history of sitting practices. Not how to do them - just their background. \n",
    "Around 1500 BCE in India, people first wrote about sitting still and breathing slowly. They noticed \n",
    "this helped maintain focus during long hours of work. These early records show simple observations \n",
    "about posture and breath patterns.\n",
    "\n",
    "Over centuries, these practices evolved. By 500 BCE, teachers were developing structured approaches. \n",
    "They created guidelines for comfortable sitting positions - cross-legged, kneeling, or using stools. \n",
    "Students learned to notice their breathing without changing it. These methods spread through oral \n",
    "tradition before being written down.\n",
    "\n",
    "As trade routes expanded, the practices traveled. Different cultures adapted them. Some emphasized \n",
    "specific hand positions. Others focused on counting breaths. In China, practitioners combined sitting \n",
    "with gentle movements. Japanese teachers developed strict posture rules. European scholars later \n",
    "documented similar techniques for concentration.\n",
    "\n",
    "In the 19th century, Western scientists became interested. Early researchers measured physiological \n",
    "changes during quiet sitting - slightly slower heart rates, deeper breathing. By the 1970s, studies \n",
    "used more advanced equipment. They recorded small but consistent changes in oxygen consumption and \n",
    "brain wave patterns.\n",
    "\n",
    "Modern neuroscience reveals more. MRI scans show that regular practitioners often have slightly \n",
    "thicker cortex areas related to attention. However, these changes require consistent practice - \n",
    "typically 20+ minutes daily for months. Current research examines potential benefits for stress \n",
    "management and focus, with mixed results across studies.\n",
    "\n",
    "Today these practices are widely accessible. Apps and online programs offer various approaches. \n",
    "Some focus on work productivity, others on general wellbeing. Researchers continue investigating \n",
    "how different methods affect the brain and body. Studies now explore optimal durations and \n",
    "frequencies for measurable effects.\n",
    "\n",
    "This historical overview shows how sitting practices developed from ancient observations to modern \n",
    "scientific study. The core idea remains unchanged - that periods of quiet sitting may affect our \n",
    "physiology and mental state. Research continues to uncover how and why these effects occur.\n",
    "\"\"\"\n",
    "\n",
    "# Generate precisely timed audio\n",
    "start_time = time.time()\n",
    "tts = gTTS(text=script, lang='en', tld='co.in', slow=False)\n",
    "tts.save(\"10_min_control.mp3\")\n",
    "elapsed = time.time() - start_time\n",
    "\n",
    "# Verify duration\n",
    "word_count = len(script.split())\n",
    "words_per_minute = word_count / (elapsed/60)\n",
    "print(f\"Generated {word_count} words in {elapsed:.1f}s (~{words_per_minute:.0f} wpm)\")"
   ]
  },
  {
   "cell_type": "code",
   "execution_count": null,
   "id": "ebbf19fd",
   "metadata": {},
   "outputs": [],
   "source": []
  }
 ],
 "metadata": {
  "kernelspec": {
   "display_name": "Python(speech_env)",
   "language": "python",
   "name": "speech_env"
  },
  "language_info": {
   "codemirror_mode": {
    "name": "ipython",
    "version": 3
   },
   "file_extension": ".py",
   "mimetype": "text/x-python",
   "name": "python",
   "nbconvert_exporter": "python",
   "pygments_lexer": "ipython3",
   "version": "3.9.21"
  }
 },
 "nbformat": 4,
 "nbformat_minor": 5
}
